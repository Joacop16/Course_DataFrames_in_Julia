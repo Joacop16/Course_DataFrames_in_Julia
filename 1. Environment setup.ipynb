{
 "cells": [
  {
   "cell_type": "markdown",
   "metadata": {},
   "source": [
    "# Environment setup for data frames tutorial\n",
    "\n",
    "## Bogumił Kamiński"
   ]
  },
  {
   "cell_type": "markdown",
   "metadata": {},
   "source": [
    "Welcome to DataFrames.jl introduction!\n",
    "\n",
    "This set of Jupyter notebooks is intended to give you an overwiew of what functionality DataFrames.jl has based on practical examples.\n",
    "\n",
    "You can find reviews of functionality of DataFrames.jl (not as exercises as this tutorial but task-type oriented) in the following locations:\n",
    "* an official manual at https://juliadata.github.io/DataFrames.jl/stable/\n",
    "* a tutorial going through all functionalities of DataFrames.jl at https://github.com/bkamins/Julia-DataFrames-Tutorial\n",
    "\n",
    "We also assume that you have a basic knowledge of the Julia language and the Julia ecosystem. There are great tutorials on this topic in [JuliaAcademy](https://juliaacademy.com/), so I encourage you to check them out.\n",
    "\n",
    "As this is a hands-on tutorial you can expect that the examples will be implemented in a way as I would write them when doing actual project."
   ]
  },
  {
   "cell_type": "markdown",
   "metadata": {},
   "source": [
    "We will use the following packages:\n",
    "\n",
    "Package | Description\n",
    ":-|:-\n",
    "DataFrames.jl | a core package that is a subject of this tutorial; it is used for data manipulation; we use version 0.21.0 of this package\n",
    "CSV.jl | a package for reading/writing of CSV files\n",
    "FreqTables.jl | a very useful package for creating frequency tables\n",
    "GLM.jl | a package for fitting Generalized Linear Models (as no data science tutorial would be complete without building some predictive model)\n",
    "PyPlot.jl | a package for plotting; there are many options in the Julia ecosystem to choose from; in this tutorial we use PyPlot.jl as it is based on Matplotlib so if you have experience with the Python data science technology stack it should be familiar\n",
    "Pipe.jl | a package that makes chaining of operations super powerful (which is something you probably know from `%>%` in R)\n",
    "Arrow.jl | a package for working with data in Apache Arrow format\n",
    "Unitful.jl | a package for working with physical units (like kg, cm, ...)\n",
    "\n",
    "So, install them with Pkg"
   ]
  },
  {
   "cell_type": "code",
   "execution_count": 8,
   "metadata": {},
   "outputs": [],
   "source": [
    "using Pkg"
   ]
  },
  {
   "cell_type": "code",
   "execution_count": 16,
   "metadata": {},
   "outputs": [
    {
     "name": "stderr",
     "output_type": "stream",
     "text": [
      "\u001b[32m\u001b[1m   Resolving\u001b[22m\u001b[39m package versions...\n"
     ]
    },
    {
     "name": "stderr",
     "output_type": "stream",
     "text": [
      "\u001b[32m\u001b[1m  No Changes\u001b[22m\u001b[39m to `C:\\Users\\joaqu\\Documents\\Julia\\Course_DataFrames_in_Julia\\Project.toml`\n",
      "\u001b[32m\u001b[1m  No Changes\u001b[22m\u001b[39m to `C:\\Users\\joaqu\\Documents\\Julia\\Course_DataFrames_in_Julia\\Manifest.toml`"
     ]
    },
    {
     "name": "stderr",
     "output_type": "stream",
     "text": [
      "\n"
     ]
    }
   ],
   "source": [
    "Pkg.add(\"Unitful\")"
   ]
  },
  {
   "cell_type": "markdown",
   "metadata": {},
   "source": [
    "<div class=\"alert alert-block alert-info\">\n",
    "    <p><b>PyPlot.jl configuration:</b></p>\n",
    "    <p>In some environments automatic installation of PyPlot.jl might fail. If you encounter this ussue please refer to <a href=\"https://github.com/JuliaPy/PyPlot.jl#installation\">the PyPlot.jl installation instructions</a>. </p>\n",
    "</div>\n",
    "\n",
    "In particular typically executing the following commands:\n",
    "\n",
    "```\n",
    "using Pkg\n",
    "ENV[\"PYTHON\"]=\"\"\n",
    "Pkg.build(\"PyCall\")\n",
    "```\n",
    "\n",
    "should resolve the PyPlot.jl installation issues. However, on OS X sometimes more configuration steps are required. You can find the detailed instructions [here](https://github.com/JuliaPy/PyPlot.jl#os-x)."
   ]
  }
 ],
 "metadata": {
  "@webio": {
   "lastCommId": null,
   "lastKernelId": null
  },
  "kernelspec": {
   "display_name": "Julia 1.9.2",
   "language": "julia",
   "name": "julia-1.9"
  },
  "language_info": {
   "file_extension": ".jl",
   "mimetype": "application/julia",
   "name": "julia",
   "version": "1.9.2"
  }
 },
 "nbformat": 4,
 "nbformat_minor": 4
}
